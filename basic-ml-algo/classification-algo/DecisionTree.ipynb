{
 "cells": [
  {
   "cell_type": "code",
   "execution_count": 1,
   "metadata": {
    "collapsed": true
   },
   "outputs": [],
   "source": [
    "import pandas as pd"
   ]
  },
  {
   "cell_type": "code",
   "execution_count": 2,
   "metadata": {
    "collapsed": true
   },
   "outputs": [],
   "source": [
    "houses=pd.read_csv(\"..//data//house_data.csv\")"
   ]
  },
  {
   "cell_type": "code",
   "execution_count": 12,
   "metadata": {
    "collapsed": true
   },
   "outputs": [],
   "source": [
    "def label_counts(data):\n",
    "    label_count = {} \n",
    "    for row in data:\n",
    "        label = row[0]\n",
    "        if label not in label_count:\n",
    "            label_count[label] = 0\n",
    "        label_count[label] += 1\n",
    "    return label_count"
   ]
  },
  {
   "cell_type": "code",
   "execution_count": 13,
   "metadata": {
    "collapsed": true
   },
   "outputs": [],
   "source": [
    "def gini(data):\n",
    "    label_count = label_counts(data)\n",
    "    impurity = 1\n",
    "    for label in label_count:\n",
    "        label_prob = label_count[label] / float(len(data))\n",
    "        impurity -= label_prob**2\n",
    "    return impurity"
   ]
  },
  {
   "cell_type": "code",
   "execution_count": 85,
   "metadata": {
    "collapsed": true
   },
   "outputs": [],
   "source": [
    "def create_split(data,col,val):\n",
    "    right = data[data[col]>val]\n",
    "    left = data[data[col]<=val]\n",
    "    return left,right"
   ]
  },
  {
   "cell_type": "code",
   "execution_count": 6,
   "metadata": {
    "collapsed": true
   },
   "outputs": [],
   "source": [
    "def information_gain(left, right, impurity):\n",
    "    p = float(len(left)) / (len(left) + len(right))\n",
    "    gain = impurity - p * gini(left.values) - (1 - p) * gini(right.values)\n",
    "    return gain"
   ]
  },
  {
   "cell_type": "code",
   "execution_count": 86,
   "metadata": {
    "collapsed": true
   },
   "outputs": [],
   "source": [
    "def build_tree(data, label_col, tree_dict,depth,max_depth ):\n",
    "    if depth==max_depth:\n",
    "        end_dict={}\n",
    "        end_dict[\"label_count\"]=label_counts(data.values)\n",
    "        end_dict['left']={}\n",
    "        end_dict['right']={}\n",
    "        return end_dict\n",
    "\n",
    "    max_info_gain=-9999\n",
    "    sel_col=None\n",
    "    sel_val=None\n",
    "    initial_impurity = gini(data.values)\n",
    "    for col in data:\n",
    "        if col != label_col:\n",
    "            for val in data[col].unique().tolist():\n",
    "                info_gain=0\n",
    "                left , right = create_split(data,col,val)\n",
    "                info_gain = information_gain(left,right,initial_impurity)\n",
    "\n",
    "                if info_gain >max_info_gain:\n",
    "                    max_info_gain=info_gain\n",
    "                    sel_col = col\n",
    "                    sel_val = val\n",
    "\n",
    "    if sel_col==None:\n",
    "        end_dict={}\n",
    "        end_dict[\"label_count\"]=label_counts(data.values)\n",
    "        end_dict['left']={}\n",
    "        end_dict['right']={}\n",
    "        return end_dict\n",
    "\n",
    "    tree_dict[\"col\"]=sel_col\n",
    "    tree_dict[\"val\"]=sel_val\n",
    "    tree_dict[\"label_count\"]=label_counts(data.values)\n",
    "    tree_dict[\"info_gain\"]=max_info_gain\n",
    "    tree_dict[\"impurity\"]=initial_impurity\n",
    "    left , right = create_split(data,sel_col,sel_val)\n",
    "    tree_dict[\"left\"]={}\n",
    "    tree_dict[\"left\"]=build_tree(left,label_col,tree_dict[\"left\"],depth+1,max_depth)\n",
    "    tree_dict[\"right\"]={}\n",
    "    tree_dict[\"right\"]=build_tree(right,label_col,tree_dict[\"right\"],depth+1,max_depth)\n",
    "\n",
    "    return tree_dict"
   ]
  },
  {
   "cell_type": "code",
   "execution_count": 87,
   "metadata": {},
   "outputs": [],
   "source": [
    "decision_tree=build_tree(houses,\"in_sf\",{},1,4)"
   ]
  },
  {
   "cell_type": "code",
   "execution_count": 124,
   "metadata": {},
   "outputs": [],
   "source": [
    "def predict(decision_tree,data):\n",
    "    traverse = True\n",
    "    while traverse:\n",
    "        col = decision_tree['col']\n",
    "        val = decision_tree['val']\n",
    "        if data[col]>val:\n",
    "            decision_tree = decision_tree['right']\n",
    "        else :\n",
    "            decision_tree = decision_tree['left']\n",
    "        if not decision_tree['right'] and not decision_tree['left']:\n",
    "            traverse = False\n",
    "    if 1.0 in decision_tree['label_count'] and 0.0 in decision_tree['label_count']:\n",
    "        label_flag = 1 if decision_tree['label_count'][1.0]> decision_tree['label_count'][0.0] else 0\n",
    "        return label_flag\n",
    "    elif 1.0 in decision_tree['label_count']:\n",
    "        return 1\n",
    "    else:\n",
    "        return 0\n",
    "        "
   ]
  },
  {
   "cell_type": "code",
   "execution_count": 125,
   "metadata": {},
   "outputs": [],
   "source": [
    "houses['predicted_label']=houses.apply(lambda row : predict(decision_tree,row),axis =1)"
   ]
  },
  {
   "cell_type": "code",
   "execution_count": 126,
   "metadata": {
    "collapsed": true
   },
   "outputs": [],
   "source": [
    "prediction = houses['in_sf']==houses['predicted_label']"
   ]
  },
  {
   "cell_type": "code",
   "execution_count": 127,
   "metadata": {},
   "outputs": [
    {
     "data": {
      "text/plain": [
       "0.89634146341463417"
      ]
     },
     "execution_count": 127,
     "metadata": {},
     "output_type": "execute_result"
    }
   ],
   "source": [
    "prediction.mean()"
   ]
  }
 ],
 "metadata": {
  "kernelspec": {
   "display_name": "Python 3",
   "language": "python",
   "name": "python3"
  },
  "language_info": {
   "codemirror_mode": {
    "name": "ipython",
    "version": 3
   },
   "file_extension": ".py",
   "mimetype": "text/x-python",
   "name": "python",
   "nbconvert_exporter": "python",
   "pygments_lexer": "ipython3",
   "version": "3.6.3"
  }
 },
 "nbformat": 4,
 "nbformat_minor": 2
}
