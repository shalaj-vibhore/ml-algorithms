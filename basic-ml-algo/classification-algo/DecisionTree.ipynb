{
 "cells": [
  {
   "cell_type": "code",
   "execution_count": 141,
   "metadata": {
    "collapsed": true
   },
   "outputs": [],
   "source": [
    "import pandas as pd\n",
    "from sklearn.model_selection import train_test_split"
   ]
  },
  {
   "cell_type": "markdown",
   "metadata": {},
   "source": [
    "# Import House Data"
   ]
  },
  {
   "cell_type": "code",
   "execution_count": 2,
   "metadata": {
    "collapsed": true
   },
   "outputs": [],
   "source": [
    "houses=pd.read_csv(\"..//data//house_data.csv\")"
   ]
  },
  {
   "cell_type": "code",
   "execution_count": 130,
   "metadata": {},
   "outputs": [
    {
     "data": {
      "text/html": [
       "<div>\n",
       "<style>\n",
       "    .dataframe thead tr:only-child th {\n",
       "        text-align: right;\n",
       "    }\n",
       "\n",
       "    .dataframe thead th {\n",
       "        text-align: left;\n",
       "    }\n",
       "\n",
       "    .dataframe tbody tr th {\n",
       "        vertical-align: top;\n",
       "    }\n",
       "</style>\n",
       "<table border=\"1\" class=\"dataframe\">\n",
       "  <thead>\n",
       "    <tr style=\"text-align: right;\">\n",
       "      <th></th>\n",
       "      <th>in_sf</th>\n",
       "      <th>beds</th>\n",
       "      <th>bath</th>\n",
       "      <th>price</th>\n",
       "      <th>year_built</th>\n",
       "      <th>sqft</th>\n",
       "      <th>price_per_sqft</th>\n",
       "      <th>elevation</th>\n",
       "      <th>predicted_label</th>\n",
       "    </tr>\n",
       "  </thead>\n",
       "  <tbody>\n",
       "    <tr>\n",
       "      <th>0</th>\n",
       "      <td>0</td>\n",
       "      <td>2.0</td>\n",
       "      <td>1.0</td>\n",
       "      <td>999000</td>\n",
       "      <td>1960</td>\n",
       "      <td>1000</td>\n",
       "      <td>999</td>\n",
       "      <td>10</td>\n",
       "      <td>0</td>\n",
       "    </tr>\n",
       "    <tr>\n",
       "      <th>1</th>\n",
       "      <td>0</td>\n",
       "      <td>2.0</td>\n",
       "      <td>2.0</td>\n",
       "      <td>2750000</td>\n",
       "      <td>2006</td>\n",
       "      <td>1418</td>\n",
       "      <td>1939</td>\n",
       "      <td>0</td>\n",
       "      <td>1</td>\n",
       "    </tr>\n",
       "    <tr>\n",
       "      <th>2</th>\n",
       "      <td>0</td>\n",
       "      <td>2.0</td>\n",
       "      <td>2.0</td>\n",
       "      <td>1350000</td>\n",
       "      <td>1900</td>\n",
       "      <td>2150</td>\n",
       "      <td>628</td>\n",
       "      <td>9</td>\n",
       "      <td>0</td>\n",
       "    </tr>\n",
       "    <tr>\n",
       "      <th>3</th>\n",
       "      <td>0</td>\n",
       "      <td>1.0</td>\n",
       "      <td>1.0</td>\n",
       "      <td>629000</td>\n",
       "      <td>1903</td>\n",
       "      <td>500</td>\n",
       "      <td>1258</td>\n",
       "      <td>9</td>\n",
       "      <td>0</td>\n",
       "    </tr>\n",
       "    <tr>\n",
       "      <th>4</th>\n",
       "      <td>0</td>\n",
       "      <td>0.0</td>\n",
       "      <td>1.0</td>\n",
       "      <td>439000</td>\n",
       "      <td>1930</td>\n",
       "      <td>500</td>\n",
       "      <td>878</td>\n",
       "      <td>10</td>\n",
       "      <td>0</td>\n",
       "    </tr>\n",
       "  </tbody>\n",
       "</table>\n",
       "</div>"
      ],
      "text/plain": [
       "   in_sf  beds  bath    price  year_built  sqft  price_per_sqft  elevation  \\\n",
       "0      0   2.0   1.0   999000        1960  1000             999         10   \n",
       "1      0   2.0   2.0  2750000        2006  1418            1939          0   \n",
       "2      0   2.0   2.0  1350000        1900  2150             628          9   \n",
       "3      0   1.0   1.0   629000        1903   500            1258          9   \n",
       "4      0   0.0   1.0   439000        1930   500             878         10   \n",
       "\n",
       "   predicted_label  \n",
       "0                0  \n",
       "1                1  \n",
       "2                0  \n",
       "3                0  \n",
       "4                0  "
      ]
     },
     "execution_count": 130,
     "metadata": {},
     "output_type": "execute_result"
    }
   ],
   "source": [
    "houses.head()\n",
    "# in_sf column describes if the house is in san francisco or not\n",
    "# rest of the columns are self explanatory"
   ]
  },
  {
   "cell_type": "code",
   "execution_count": 142,
   "metadata": {},
   "outputs": [],
   "source": [
    "X_train, X_test, y_train, y_test =train_test_split(\n",
    "    houses.drop(['in_sf'],axis=1),houses['in_sf'],test_size=0.3,random_state=42)"
   ]
  },
  {
   "cell_type": "code",
   "execution_count": 145,
   "metadata": {
    "collapsed": true
   },
   "outputs": [],
   "source": [
    "houses_train=pd.concat([y_train,X_train],axis=1)"
   ]
  },
  {
   "cell_type": "markdown",
   "metadata": {},
   "source": [
    "# Build Decision Tree Algorithm"
   ]
  },
  {
   "cell_type": "code",
   "execution_count": 12,
   "metadata": {
    "collapsed": true
   },
   "outputs": [],
   "source": [
    "#function to count the frequency of labels in dataset\n",
    "def label_counts(data):\n",
    "    label_count = {} \n",
    "    for row in data:\n",
    "        label = row[0]\n",
    "        if label not in label_count:\n",
    "            label_count[label] = 0\n",
    "        label_count[label] += 1\n",
    "    return label_count"
   ]
  },
  {
   "cell_type": "code",
   "execution_count": 13,
   "metadata": {
    "collapsed": true
   },
   "outputs": [],
   "source": [
    "# function to calculate ginni index of a given data\n",
    "def gini(data):\n",
    "    label_count = label_counts(data)\n",
    "    impurity = 1\n",
    "    for label in label_count:\n",
    "        label_prob = label_count[label] / float(len(data))\n",
    "        impurity -= label_prob**2\n",
    "    return impurity"
   ]
  },
  {
   "cell_type": "code",
   "execution_count": 85,
   "metadata": {
    "collapsed": true
   },
   "outputs": [],
   "source": [
    "# function to split dataset based on a column label and column value\n",
    "def create_split(data,col,val):\n",
    "    right = data[data[col]>val]\n",
    "    left = data[data[col]<=val]\n",
    "    return left,right"
   ]
  },
  {
   "cell_type": "code",
   "execution_count": 6,
   "metadata": {
    "collapsed": true
   },
   "outputs": [],
   "source": [
    "#function to calculate information gain acheived if the the data is split into two\n",
    "def information_gain(left, right, impurity):\n",
    "    p = float(len(left)) / (len(left) + len(right))\n",
    "    gain = impurity - p * gini(left.values) - (1 - p) * gini(right.values)\n",
    "    return gain"
   ]
  },
  {
   "cell_type": "code",
   "execution_count": 86,
   "metadata": {
    "collapsed": true
   },
   "outputs": [],
   "source": [
    "# builds a tree in for of python dictionary\n",
    "def build_tree(data, label_col, tree_dict,depth,max_depth ):\n",
    "    if depth==max_depth:\n",
    "        end_dict={}\n",
    "        end_dict[\"label_count\"]=label_counts(data.values)\n",
    "        end_dict['left']={}\n",
    "        end_dict['right']={}\n",
    "        return end_dict\n",
    "\n",
    "    max_info_gain=-9999\n",
    "    sel_col=None\n",
    "    sel_val=None\n",
    "    initial_impurity = gini(data.values)\n",
    "    for col in data:\n",
    "        if col != label_col:\n",
    "            for val in data[col].unique().tolist():\n",
    "                info_gain=0\n",
    "                left , right = create_split(data,col,val)\n",
    "                info_gain = information_gain(left,right,initial_impurity)\n",
    "\n",
    "                if info_gain >max_info_gain:\n",
    "                    max_info_gain=info_gain\n",
    "                    sel_col = col\n",
    "                    sel_val = val\n",
    "\n",
    "    if sel_col==None:\n",
    "        end_dict={}\n",
    "        end_dict[\"label_count\"]=label_counts(data.values)\n",
    "        end_dict['left']={}\n",
    "        end_dict['right']={}\n",
    "        return end_dict\n",
    "\n",
    "    tree_dict[\"col\"]=sel_col\n",
    "    tree_dict[\"val\"]=sel_val\n",
    "    tree_dict[\"label_count\"]=label_counts(data.values)\n",
    "    tree_dict[\"info_gain\"]=max_info_gain\n",
    "    tree_dict[\"impurity\"]=initial_impurity\n",
    "    left , right = create_split(data,sel_col,sel_val)\n",
    "    tree_dict[\"left\"]={}\n",
    "    tree_dict[\"left\"]=build_tree(left,label_col,tree_dict[\"left\"],depth+1,max_depth)\n",
    "    tree_dict[\"right\"]={}\n",
    "    tree_dict[\"right\"]=build_tree(right,label_col,tree_dict[\"right\"],depth+1,max_depth)\n",
    "\n",
    "    return tree_dict"
   ]
  },
  {
   "cell_type": "code",
   "execution_count": 124,
   "metadata": {},
   "outputs": [],
   "source": [
    "# function to predict labels for unlabelled data\n",
    "def predict(decision_tree,data):\n",
    "    traverse = True\n",
    "    while traverse:\n",
    "        col = decision_tree['col']\n",
    "        val = decision_tree['val']\n",
    "        if data[col]>val:\n",
    "            decision_tree = decision_tree['right']\n",
    "        else :\n",
    "            decision_tree = decision_tree['left']\n",
    "        if not decision_tree['right'] and not decision_tree['left']:\n",
    "            traverse = False\n",
    "    if 1.0 in decision_tree['label_count'] and 0.0 in decision_tree['label_count']:\n",
    "        label_flag = 1 if decision_tree['label_count'][1.0]> decision_tree['label_count'][0.0] else 0\n",
    "        return label_flag\n",
    "    elif 1.0 in decision_tree['label_count']:\n",
    "        return 1\n",
    "    else:\n",
    "        return 0\n",
    "        "
   ]
  },
  {
   "cell_type": "markdown",
   "metadata": {},
   "source": [
    "# Fit the training data"
   ]
  },
  {
   "cell_type": "code",
   "execution_count": 147,
   "metadata": {},
   "outputs": [],
   "source": [
    "# fit the data\n",
    "decision_tree=build_tree(houses_train,\"in_sf\",{},1,4)"
   ]
  },
  {
   "cell_type": "code",
   "execution_count": 125,
   "metadata": {},
   "outputs": [],
   "source": [
    "# predict labels for training dataset\n",
    "houses['predicted_label']=houses.apply(lambda row : predict(decision_tree,row),axis =1)"
   ]
  },
  {
   "cell_type": "markdown",
   "metadata": {},
   "source": [
    "# Evaluate algorithm"
   ]
  },
  {
   "cell_type": "code",
   "execution_count": 136,
   "metadata": {},
   "outputs": [
    {
     "name": "stdout",
     "output_type": "stream",
     "text": [
      "Training Accuracy :  89.63 %\n"
     ]
    }
   ],
   "source": [
    "# calculate accuracy on training dataset\n",
    "train_prediction = houses['in_sf']==houses['predicted_label']\n",
    "print(\"Training Accuracy : \",round(train_prediction.mean()*100,2),\"%\")"
   ]
  },
  {
   "cell_type": "code",
   "execution_count": 155,
   "metadata": {
    "collapsed": true
   },
   "outputs": [],
   "source": [
    "# Predict house labels on test dataset\n",
    "prediction_label=X_test.apply(lambda row : predict(decision_tree,row),axis =1)"
   ]
  },
  {
   "cell_type": "code",
   "execution_count": 157,
   "metadata": {},
   "outputs": [
    {
     "name": "stdout",
     "output_type": "stream",
     "text": [
      "Test Accuracy :  90.54 %\n"
     ]
    }
   ],
   "source": [
    "# Calculate accuracy on Test Dataset\n",
    "test_prediction=prediction_label.values==y_test\n",
    "print(\"Test Accuracy : \",round(test_prediction.mean()*100,2),\"%\")"
   ]
  }
 ],
 "metadata": {
  "kernelspec": {
   "display_name": "Python 3",
   "language": "python",
   "name": "python3"
  },
  "language_info": {
   "codemirror_mode": {
    "name": "ipython",
    "version": 3
   },
   "file_extension": ".py",
   "mimetype": "text/x-python",
   "name": "python",
   "nbconvert_exporter": "python",
   "pygments_lexer": "ipython3",
   "version": "3.6.3"
  }
 },
 "nbformat": 4,
 "nbformat_minor": 2
}
