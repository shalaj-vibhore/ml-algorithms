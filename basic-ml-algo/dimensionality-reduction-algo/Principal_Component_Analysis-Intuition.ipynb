{
 "cells": [
  {
   "cell_type": "code",
   "execution_count": 1,
   "metadata": {
    "collapsed": true
   },
   "outputs": [],
   "source": [
    "import numpy as np\n",
    "import matplotlib.pyplot as plt\n",
    "from numpy.polynomial.polynomial import polyfit\n",
    "from math import sqrt"
   ]
  },
  {
   "cell_type": "code",
   "execution_count": 2,
   "metadata": {
    "collapsed": true
   },
   "outputs": [],
   "source": [
    "# Generate data for principal component analysis\n",
    "# In this specific example i have used a 2 dimensional data for the sake of clarity and eliminate\n",
    "# complexity of generating eigen vectors for multi dimensional data\n",
    "\n",
    "# This is representative sample and not entirely correct , but provides the intutive process of calculation\n",
    "# that is not present while calculating Eigen value and vector using the Charcteristic equation"
   ]
  },
  {
   "cell_type": "markdown",
   "metadata": {},
   "source": [
    "# Create 2 dimensional data for PCA"
   ]
  },
  {
   "cell_type": "code",
   "execution_count": 3,
   "metadata": {
    "collapsed": true
   },
   "outputs": [],
   "source": [
    "data = np.array([\n",
    "        [3, 4],\n",
    "        [2, 2],\n",
    "        [6, 8],\n",
    "        [1, 6],\n",
    "        [8, 10],\n",
    "        [3, 12],\n",
    "        [9, 14],\n",
    "        [6, 16],\n",
    "    ], dtype='float64')"
   ]
  },
  {
   "cell_type": "code",
   "execution_count": 4,
   "metadata": {},
   "outputs": [
    {
     "name": "stdout",
     "output_type": "stream",
     "text": [
      "X axis mean value :  4.75\n",
      "Y axis Mean value :  9.0\n"
     ]
    }
   ],
   "source": [
    "# Mean normalization is used here to shift the data towards origin of the 2 axis , \n",
    "# which will eliminate the need of intercept\n",
    "\n",
    "# While generating a linear regression line with least sum of squared error , \n",
    "# which will eventually be our principal component 1\n",
    "\n",
    "x_mean=np.mean(data.T[0])\n",
    "y_mean=np.mean(data.T[1])\n",
    "\n",
    "mean_norm_data =np.array([data.T[0]-x_mean,data.T[1]-y_mean]).T\n",
    "\n",
    "print(\"X axis mean value : \",x_mean)\n",
    "print(\"Y axis Mean value : \",y_mean)"
   ]
  },
  {
   "cell_type": "code",
   "execution_count": 5,
   "metadata": {},
   "outputs": [
    {
     "data": {
      "text/plain": [
       "array([[-1.75, -5.  ],\n",
       "       [-2.75, -7.  ],\n",
       "       [ 1.25, -1.  ],\n",
       "       [-3.75, -3.  ],\n",
       "       [ 3.25,  1.  ],\n",
       "       [-1.75,  3.  ],\n",
       "       [ 4.25,  5.  ],\n",
       "       [ 1.25,  7.  ]])"
      ]
     },
     "execution_count": 5,
     "metadata": {},
     "output_type": "execute_result"
    }
   ],
   "source": [
    "mean_norm_data"
   ]
  },
  {
   "cell_type": "code",
   "execution_count": 6,
   "metadata": {
    "collapsed": true
   },
   "outputs": [],
   "source": [
    "# Feature scaling is also required if the 2 axes are inherently in different unit , we will be skipping \n",
    "# this step in the process"
   ]
  },
  {
   "cell_type": "code",
   "execution_count": 7,
   "metadata": {
    "collapsed": true
   },
   "outputs": [],
   "source": [
    "X_train=mean_norm_data.T[0].reshape(mean_norm_data.shape[0],1)\n",
    "y_train=mean_norm_data.T[1]"
   ]
  },
  {
   "cell_type": "markdown",
   "metadata": {},
   "source": [
    "# Compute the best fit line through data which will be PC1"
   ]
  },
  {
   "cell_type": "code",
   "execution_count": 8,
   "metadata": {},
   "outputs": [
    {
     "name": "stdout",
     "output_type": "stream",
     "text": [
      "Slope :  1.10924369748\n",
      "Intercept :  4.63045731175e-17\n"
     ]
    }
   ],
   "source": [
    "# Fit a linear line on the data which will be the principal component 1\n",
    "\n",
    "b, m = polyfit(mean_norm_data.T[0], mean_norm_data.T[1], 1)\n",
    "\n",
    "print(\"Slope : \",m)\n",
    "print(\"Intercept : \", b)"
   ]
  },
  {
   "cell_type": "code",
   "execution_count": 9,
   "metadata": {},
   "outputs": [
    {
     "data": {
      "image/png": "[encoded data removed]",
      "text/plain": [
       "<matplotlib.figure.Figure at 0x1150f9940>"
      ]
     },
     "metadata": {},
     "output_type": "display_data"
    }
   ],
   "source": [
    "plt.plot(mean_norm_data.T[0], mean_norm_data.T[1], '.')\n",
    "plt.plot(mean_norm_data.T[0], b + m * mean_norm_data.T[0], '-')\n",
    "plt.show()"
   ]
  },
  {
   "cell_type": "code",
   "execution_count": 10,
   "metadata": {
    "collapsed": true
   },
   "outputs": [],
   "source": [
    "def line_intersection(line1, line2):\n",
    "    xdiff = (line1[0][0] - line1[1][0], line2[0][0] - line2[1][0])\n",
    "    ydiff = (line1[0][1] - line1[1][1], line2[0][1] - line2[1][1]) \n",
    "    \n",
    "    def det(a, b):\n",
    "        return a[0] * b[1] - a[1] * b[0]\n",
    "    \n",
    "    div = det(xdiff, ydiff)\n",
    "    if div == 0:\n",
    "        return None\n",
    "    d = (det(*line1), det(*line2))\n",
    "    x = det(d, xdiff) / div\n",
    "    y = det(d, ydiff) / div\n",
    "    return x, y"
   ]
  },
  {
   "cell_type": "code",
   "execution_count": 11,
   "metadata": {
    "collapsed": true
   },
   "outputs": [],
   "source": [
    "# Representing the PC1 line using 2 point format which will make finding orthogonal projection of points \n",
    "# on the line easier "
   ]
  },
  {
   "cell_type": "markdown",
   "metadata": {},
   "source": [
    "# Determine projection of orignal data on PC1"
   ]
  },
  {
   "cell_type": "code",
   "execution_count": 12,
   "metadata": {
    "collapsed": true
   },
   "outputs": [],
   "source": [
    "#Function to determine where the point lies with respect to new projected axes\n",
    "def point_line_space(pc_line_ortho,row_val):\n",
    "    v1 = [pc_line_ortho[1][0]-pc_line_ortho[0][0], pc_line_ortho[1][1]-pc_line_ortho[1][1]]  # Vector 1\n",
    "    v2 = [pc_line_ortho[1][0]-row_val[0], pc_line_ortho[1][1]-row_val[1]]   # Vector 1\n",
    "    xp = v1[0]*v2[1] - v1[1]*v2[0]  # Cross product\n",
    "    if xp >= 0:\n",
    "        return 1\n",
    "    elif xp < 0:\n",
    "        return 0"
   ]
  },
  {
   "cell_type": "code",
   "execution_count": 13,
   "metadata": {},
   "outputs": [],
   "source": [
    "# Function to calculate the observation value projected on new / alternate axes\n",
    "\n",
    "def pc_val(pc_m,pc_line,row_val):\n",
    "    pc_ortho_m = -(1/pc_m)\n",
    "    pc_ortho_b=row_val[1]-pc_ortho_m*row_val[0]\n",
    "    pc_ortho_line=[tuple(row_val),(1,pc_ortho_m*1+pc_ortho_b)]\n",
    "    ortho_proj=line_intersection(pc_line, pc_ortho_line)\n",
    "    dist=sqrt( (ortho_proj[0] - 0)**2 + (ortho_proj[1] - 0)**2 )\n",
    "    point_space=point_line_space([(1,1*pc_ortho_m),(0,0)],row_val)\n",
    "    \n",
    "    if point_space ==0:\n",
    "        return dist\n",
    "    else:\n",
    "        return -dist"
   ]
  },
  {
   "cell_type": "code",
   "execution_count": 14,
   "metadata": {},
   "outputs": [
    {
     "data": {
      "text/plain": [
       "[4.8854475082985,\n",
       " 7.040502383827814,\n",
       " 0.09424848345983354,\n",
       " 4.739151354868314,\n",
       " -2.9188895996888546,\n",
       " -1.0564270310199173,\n",
       " -6.559413110047772,\n",
       " -6.036123022778259]"
      ]
     },
     "execution_count": 14,
     "metadata": {},
     "output_type": "execute_result"
    }
   ],
   "source": [
    "# For every row in data calculate the ortogonal projection and then calculate the distance between origin and the projection\n",
    "# which will be the projection of point on newly created dimension \"PC1\"\n",
    "\n",
    "pc1_line = [(1,m*1),(0,m*0)]\n",
    "\n",
    "pc1=[]\n",
    "for row in mean_norm_data:\n",
    "    pc1.append(pc_val(m,pc1_line,row))\n",
    "\n",
    "pc1"
   ]
  },
  {
   "cell_type": "markdown",
   "metadata": {},
   "source": [
    "# Compare PC1 by above process with PC1 derived from Scikit learn algorithm"
   ]
  },
  {
   "cell_type": "code",
   "execution_count": 15,
   "metadata": {},
   "outputs": [
    {
     "data": {
      "text/plain": [
       "array([[ 5.26838171],\n",
       "       [ 7.50389639],\n",
       "       [ 0.37014574],\n",
       "       [ 4.31448692],\n",
       "       [-2.29257556],\n",
       "       [-1.96485048],\n",
       "       [-6.33639828],\n",
       "       [-6.86308645]])"
      ]
     },
     "execution_count": 15,
     "metadata": {},
     "output_type": "execute_result"
    }
   ],
   "source": [
    "# Let's Compare our PC1 with an alternative implementation using scikit on the same data\n",
    "\n",
    "from sklearn import decomposition\n",
    "pca = decomposition.PCA(n_components=1)\n",
    "pca.fit(data)\n",
    "X = pca.transform(data)\n",
    "\n",
    "X"
   ]
  }
 ],
 "metadata": {
  "kernelspec": {
   "display_name": "Python 3",
   "language": "python",
   "name": "python3"
  },
  "language_info": {
   "codemirror_mode": {
    "name": "ipython",
    "version": 3
   },
   "file_extension": ".py",
   "mimetype": "text/x-python",
   "name": "python",
   "nbconvert_exporter": "python",
   "pygments_lexer": "ipython3",
   "version": "3.6.3"
  }
 },
 "nbformat": 4,
 "nbformat_minor": 2
}
