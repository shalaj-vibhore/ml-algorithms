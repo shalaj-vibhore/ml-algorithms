{
 "cells": [
  {
   "cell_type": "code",
   "execution_count": 1,
   "metadata": {
    "collapsed": true
   },
   "outputs": [],
   "source": [
    "import pandas as pd\n",
    "import numpy as np"
   ]
  },
  {
   "cell_type": "markdown",
   "metadata": {},
   "source": [
    "# Load Dataset"
   ]
  },
  {
   "cell_type": "code",
   "execution_count": 2,
   "metadata": {},
   "outputs": [],
   "source": [
    "# The dataset is open and available at url : https://archive.ics.uci.edu/ml/datasets/seeds\n",
    "seed_data=pd.read_csv(\"..//data//seed_data.csv\")"
   ]
  },
  {
   "cell_type": "code",
   "execution_count": 3,
   "metadata": {},
   "outputs": [],
   "source": [
    "# we make a copy of of seed data without seed class to train our unsupervised algorithm to find pattern\n",
    "data=seed_data[['area', 'perimeter', 'compactness', 'length_of_kernel',\n",
    "       'width_of_kernel', 'asymmetry_coefficient', 'length_of_kernel_groove']].as_matrix().copy()"
   ]
  },
  {
   "cell_type": "markdown",
   "metadata": {},
   "source": [
    "# Initialize Varriables"
   ]
  },
  {
   "cell_type": "code",
   "execution_count": 4,
   "metadata": {
    "collapsed": true
   },
   "outputs": [],
   "source": [
    "# number of cluster to be formed\n",
    "k = 3 \n",
    "# the maximum number of time centers of cluster will be adjusted so that each point is closest to designted cluster\n",
    "iterations_count = 10 "
   ]
  },
  {
   "cell_type": "code",
   "execution_count": 5,
   "metadata": {},
   "outputs": [],
   "source": [
    "# Shuffle the dataset and select k number of initial centers of cluster\n",
    "np.random.shuffle(data)\n",
    "cluster_centroids = {}\n",
    "cluster_centroids[0] = data[0]\n",
    "cluster_centroids[1] = data[1]\n",
    "cluster_centroids[2] = data[2]"
   ]
  },
  {
   "cell_type": "code",
   "execution_count": 6,
   "metadata": {},
   "outputs": [],
   "source": [
    "prev_cluster_centroids = cluster_centroids.copy()"
   ]
  },
  {
   "cell_type": "code",
   "execution_count": 7,
   "metadata": {},
   "outputs": [],
   "source": [
    "clusters = np.zeros(len(data))"
   ]
  },
  {
   "cell_type": "markdown",
   "metadata": {},
   "source": [
    "# Evaluate Cluster Centroids"
   ]
  },
  {
   "cell_type": "code",
   "execution_count": 8,
   "metadata": {},
   "outputs": [],
   "source": [
    "#iterate through each observtion set to identify which cluster it belongs to with current cluster centroids\n",
    "for i in range(0,len(data)):\n",
    "    distances = [np.linalg.norm(data[i] - cluster_centroids[centroid]) for centroid in cluster_centroids]\n",
    "    clusters[i] = np.argmin(distances)"
   ]
  },
  {
   "cell_type": "code",
   "execution_count": 9,
   "metadata": {
    "collapsed": true
   },
   "outputs": [],
   "source": [
    "# evaluate new cluster center by taking average of all data points belonging to the same cluster\n",
    "for p in clusters:\n",
    "    cluster_centroids[p] = np.mean([data[q] for q in range(0,len(data)) if clusters[q] == p],axis=0)"
   ]
  },
  {
   "cell_type": "code",
   "execution_count": 10,
   "metadata": {},
   "outputs": [
    {
     "name": "stdout",
     "output_type": "stream",
     "text": [
      "Iteration :  209  ; Average Change in Centroid Distance : 1.90978636479\n"
     ]
    }
   ],
   "source": [
    "# calculate the average difference between previous cluster centers and changed clsuter centers\n",
    "avg_change = np.mean([np.linalg.norm(prev_cluster_centroids[centroid] - cluster_centroids[centroid]) \n",
    "                      for centroid in cluster_centroids])\n",
    "print(\"Iteration : \",i,\" ; Average Change in Centroid Distance :\",avg_change)\n",
    "prev_cluster_centroids = cluster_centroids.copy()"
   ]
  },
  {
   "cell_type": "code",
   "execution_count": 11,
   "metadata": {},
   "outputs": [
    {
     "name": "stdout",
     "output_type": "stream",
     "text": [
      "Iteration :  1  ; Average Change in Centroid Distance : 0.665691422955\n",
      "Iteration :  2  ; Average Change in Centroid Distance : 0.304211049869\n",
      "Iteration :  3  ; Average Change in Centroid Distance : 0.136301381622\n",
      "Iteration :  4  ; Average Change in Centroid Distance : 0.0264206109328\n",
      "Iteration :  5  ; Average Change in Centroid Distance : 0.0\n",
      "Iteration :  6  ; Average Change in Centroid Distance : 0.0\n",
      "Iteration :  7  ; Average Change in Centroid Distance : 0.0\n",
      "Iteration :  8  ; Average Change in Centroid Distance : 0.0\n",
      "Iteration :  9  ; Average Change in Centroid Distance : 0.0\n"
     ]
    }
   ],
   "source": [
    "#carry out rest of iteration to improve cluster centers that is iteration_count-1\n",
    "for i in range(1,iterations_count):\n",
    "    for m in range(0,len(data)):\n",
    "        distances = [np.linalg.norm(data[m] - cluster_centroids[centroid]) for centroid in cluster_centroids]\n",
    "        clusters[m] = np.argmin(distances)\n",
    "        \n",
    "    for p in clusters:\n",
    "        cluster_centroids[p] = np.mean([data[q] for q in range(0,len(data)) if clusters[q] == p],axis=0)\n",
    "        \n",
    "\n",
    "    avg_change = np.mean([np.linalg.norm(prev_cluster_centroids[centroid] - cluster_centroids[centroid]) \n",
    "                          for centroid in cluster_centroids])\n",
    "    print(\"Iteration : \",i,\" ; Average Change in Centroid Distance :\",avg_change)\n",
    "    prev_cluster_centroids = cluster_centroids.copy()"
   ]
  },
  {
   "cell_type": "markdown",
   "metadata": {},
   "source": [
    "# Predict Cluster label for Seed Data"
   ]
  },
  {
   "cell_type": "code",
   "execution_count": 12,
   "metadata": {},
   "outputs": [],
   "source": [
    "def pred(data):\n",
    "    distances = [np.linalg.norm(data - cluster_centroids[centroid]) for centroid in cluster_centroids]\n",
    "    cluster_val = np.argmin(distances)\n",
    "    return cluster_val"
   ]
  },
  {
   "cell_type": "code",
   "execution_count": 14,
   "metadata": {},
   "outputs": [],
   "source": [
    "# Assign clusters to observation in seeds data\n",
    "seed_data['cluster']=seed_data.apply(lambda x : pred(x[['area', 'perimeter', 'compactness', 'length_of_kernel'\n",
    "                                                        ,'width_of_kernel', 'asymmetry_coefficient', \n",
    "                                                        'length_of_kernel_groove']]),axis=1)\n",
    "\n",
    "seed_data['index']=seed_data.index"
   ]
  },
  {
   "cell_type": "markdown",
   "metadata": {},
   "source": [
    "# Compare Cluster Labels with Seed Class"
   ]
  },
  {
   "cell_type": "code",
   "execution_count": 15,
   "metadata": {},
   "outputs": [
    {
     "data": {
      "text/html": [
       "<div>\n",
       "<style>\n",
       "    .dataframe thead tr:only-child th {\n",
       "        text-align: right;\n",
       "    }\n",
       "\n",
       "    .dataframe thead th {\n",
       "        text-align: left;\n",
       "    }\n",
       "\n",
       "    .dataframe tbody tr th {\n",
       "        vertical-align: top;\n",
       "    }\n",
       "</style>\n",
       "<table border=\"1\" class=\"dataframe\">\n",
       "  <thead>\n",
       "    <tr>\n",
       "      <th></th>\n",
       "      <th colspan=\"3\" halign=\"left\">index</th>\n",
       "    </tr>\n",
       "    <tr>\n",
       "      <th>cluster</th>\n",
       "      <th>0</th>\n",
       "      <th>1</th>\n",
       "      <th>2</th>\n",
       "    </tr>\n",
       "    <tr>\n",
       "      <th>seed_class</th>\n",
       "      <th></th>\n",
       "      <th></th>\n",
       "      <th></th>\n",
       "    </tr>\n",
       "  </thead>\n",
       "  <tbody>\n",
       "    <tr>\n",
       "      <th>1</th>\n",
       "      <td>1.0</td>\n",
       "      <td>57.0</td>\n",
       "      <td>12.0</td>\n",
       "    </tr>\n",
       "    <tr>\n",
       "      <th>2</th>\n",
       "      <td>60.0</td>\n",
       "      <td>10.0</td>\n",
       "      <td>NaN</td>\n",
       "    </tr>\n",
       "    <tr>\n",
       "      <th>3</th>\n",
       "      <td>NaN</td>\n",
       "      <td>NaN</td>\n",
       "      <td>70.0</td>\n",
       "    </tr>\n",
       "  </tbody>\n",
       "</table>\n",
       "</div>"
      ],
      "text/plain": [
       "           index            \n",
       "cluster        0     1     2\n",
       "seed_class                  \n",
       "1            1.0  57.0  12.0\n",
       "2           60.0  10.0   NaN\n",
       "3            NaN   NaN  70.0"
      ]
     },
     "execution_count": 15,
     "metadata": {},
     "output_type": "execute_result"
    }
   ],
   "source": [
    "#Evaluate cluster label with seed classes\n",
    "pd.pivot_table(seed_data,index=['seed_class','cluster'],values=['index'],aggfunc=len).unstack()"
   ]
  }
 ],
 "metadata": {
  "kernelspec": {
   "display_name": "Python 3",
   "language": "python",
   "name": "python3"
  },
  "language_info": {
   "codemirror_mode": {
    "name": "ipython",
    "version": 3
   },
   "file_extension": ".py",
   "mimetype": "text/x-python",
   "name": "python",
   "nbconvert_exporter": "python",
   "pygments_lexer": "ipython3",
   "version": "3.6.3"
  }
 },
 "nbformat": 4,
 "nbformat_minor": 2
}
